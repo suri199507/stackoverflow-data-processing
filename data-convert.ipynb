{
 "cells": [
  {
   "cell_type": "markdown",
   "id": "13176204",
   "metadata": {},
   "source": [
    "converts stackoverflow data dump from XML files to parquet format"
   ]
  },
  {
   "cell_type": "code",
   "execution_count": 1,
   "id": "ff167d0a",
   "metadata": {},
   "outputs": [],
   "source": [
    "import pyspark\n",
    "from pyspark.sql.session import SparkSession\n",
    "from pyspark.sql.functions import *\n",
    "from pyspark.sql.types import *\n",
    "\n",
    "# initialize\n",
    "spark = (SparkSession.builder\n",
    "    .appName('stackoverflow')\n",
    "    .config('spark.local.dir', 'spark_dir')\n",
    "    .getOrCreate())"
   ]
  },
  {
   "cell_type": "code",
   "execution_count": 4,
   "id": "43a2747d",
   "metadata": {},
   "outputs": [],
   "source": [
    "import re\n",
    "import html\n",
    "\n",
    "# create variables for parsing\n",
    "pattern = re.compile(' ([A-Za-z]+)=\"([^\"]*)\"')\n",
    "parse_line = lambda line: {key:value for key,value in pattern.findall(line)}\n",
    "unescape = udf(lambda escaped: html.unescape(escaped) if escaped else None)\n",
    "\n",
    "def read_tags_raw(tags_string): # converts <tag1><tag2> to ['tag1', 'tag2']\n",
    "    return html.unescape(tags_string).strip('>').strip('<').split('><') if tags_string else []\n",
    "    \n",
    "read_tags = udf(read_tags_raw, ArrayType(StringType()))\n",
    "\n",
    "link = 'german.stackexchange.com'\n",
    "\n",
    "output_directory = 'main/outputdata'"
   ]
  },
  {
   "cell_type": "code",
   "execution_count": 27,
   "id": "1b6ab78a",
   "metadata": {},
   "outputs": [],
   "source": [
    "data=spark.read.text(link + '/Badges.xml').where(col('value').like('%<row Id%')) \\\n",
    "    .select(udf(parse_line, MapType(StringType(), StringType()))('value').alias('value')) "
   ]
  },
  {
   "cell_type": "code",
   "execution_count": 29,
   "id": "4cb6de63",
   "metadata": {},
   "outputs": [
    {
     "name": "stderr",
     "output_type": "stream",
     "text": [
      "                                                                                \r"
     ]
    }
   ],
   "source": [
    "#Badges\n",
    "data.select(\n",
    "    col('value.Id').cast('integer').alias(\"Id\"),\n",
    "    col('value.UserId').cast('integer').alias(\"UserId\"),  \n",
    "    col('value.Name'),\n",
    "    col('value.Date').cast('timestamp').alias(\"Date\"),\n",
    "    col('value.Class').cast('integer').alias(\"Class\"),\n",
    "    col('value.TagBased').cast('boolean').alias(\"TagBased\")\n",
    "    ).repartition(5).write.parquet(output_directory + '/Badges')\n",
    "\n"
   ]
  },
  {
   "cell_type": "code",
   "execution_count": 35,
   "id": "da5e47eb",
   "metadata": {},
   "outputs": [
    {
     "name": "stderr",
     "output_type": "stream",
     "text": [
      "22/03/12 14:37:04 WARN MemoryManager: Total allocation exceeds 95.00% (1,020,054,720 bytes) of heap memory\n",
      "Scaling row group sizes to 95.00% for 8 writers\n",
      "                                                                                \r"
     ]
    }
   ],
   "source": [
    " #Comments\n",
    "\n",
    "spark.read.text(link + '/Comments.xml').where(col('value').like('%<row Id%')) \\\n",
    "    .select(udf(parse_line, MapType(StringType(), StringType()))('value').alias('value')) \\\n",
    "    .select(\n",
    "        col('value.Id').cast('integer').alias(\"Id\"),\n",
    "        col('value.PostId').cast('integer').alias(\"PostId\"),  # foreign key\n",
    "        col('value.Score').cast('integer').alias(\"Score\"),\n",
    "        unescape('value.Text').alias('Text'),\n",
    "        col('value.CreationDate').cast('timestamp').alias(\"CreationDate\"),\n",
    "        col('value.UserId').cast('integer').alias(\"UserId\")\n",
    "    ).write.parquet(output_directory + '/Comments')"
   ]
  },
  {
   "cell_type": "code",
   "execution_count": 37,
   "id": "fb94577e",
   "metadata": {},
   "outputs": [
    {
     "name": "stderr",
     "output_type": "stream",
     "text": [
      "22/03/12 16:01:53 WARN MemoryManager: Total allocation exceeds 95.00% (1,020,054,720 bytes) of heap memory\n",
      "Scaling row group sizes to 95.00% for 8 writers\n",
      "                                                                                \r"
     ]
    }
   ],
   "source": [
    "# Posts\n",
    "\n",
    "spark.read.text(link + '/Posts.xml').where(col('value').like('%<row Id%')) \\\n",
    "    .select(udf(parse_line, MapType(StringType(), StringType()))('value').alias('value')) \\\n",
    "    .select(\n",
    "    col('value.Id').cast('integer').alias(\"Id\"),\n",
    "    col('value.PostTypeId').cast('integer').alias(\"PostTypeId\"),\n",
    "    col('value.ParentId').cast('integer').alias(\"ParentId\"),\n",
    "    col('value.AcceptedAnswerId').cast('integer').alias(\"AcceptedAnswerId\"),\n",
    "    col('value.CreationDate').cast('timestamp').alias(\"CreationDate\"),\n",
    "    col('value.Score').cast('integer').alias(\"Score\"),\n",
    "    col('value.ViewCount').cast('integer').alias(\"ViewCount\"),\n",
    "    unescape('value.Body').alias('Body'),\n",
    "    col('value.OwnerUserId').cast('integer').alias(\"OwnerUserId\"),\n",
    "    col('value.LastEditorUserId').cast('integer').alias(\"LastEditorUserId\"),\n",
    "    col('value.LastEditorDisplayName').alias(\"LastEditorDisplayName\"),\n",
    "    col('value.LastEditDate').cast('timestamp').alias(\"LastEditDate\"),\n",
    "    col('value.LastActivityDate').cast('timestamp').alias(\"LastActivityDate\"),\n",
    "    col('value.CommunityOwnedDate').cast('timestamp').alias(\"CommunityOwnedDate\"),\n",
    "    col('value.ClosedDate').cast('timestamp').alias(\"ClosedDate\"),\n",
    "    unescape('value.Title').alias('Title'),\n",
    "    read_tags('value.Tags').alias('Tags'),\n",
    "    col('value.AnswerCount').cast('integer').alias(\"AnswerCount\"),\n",
    "    col('value.CommentCount').cast('integer').alias(\"CommentCount\"),\n",
    "    col('value.FavoriteCount').cast('integer').alias(\"FavoriteCount\"),\n",
    ").write.parquet(output_directory + '/Posts')\n"
   ]
  },
  {
   "cell_type": "code",
   "execution_count": 38,
   "id": "f351a6b1",
   "metadata": {},
   "outputs": [
    {
     "name": "stderr",
     "output_type": "stream",
     "text": [
      "22/03/12 16:08:12 WARN MemoryManager: Total allocation exceeds 95.00% (1,020,054,720 bytes) of heap memory\n",
      "Scaling row group sizes to 95.00% for 8 writers\n",
      "                                                                                \r"
     ]
    }
   ],
   "source": [
    "# PostHistory\n",
    "\n",
    "spark.read.text(link + '/PostHistory.xml').where(col('value').like('%<row Id%')) \\\n",
    "    .select(udf(parse_line, MapType(StringType(), StringType()))('value').alias('value')) \\\n",
    "    .select(\n",
    "        col('value.Id').cast('integer').alias(\"Id\"),\n",
    "        col('value.PostHistoryTypeId').cast('integer').alias(\"PostHistoryTypeId\"),\n",
    "        col('value.PostId').cast('integer').alias(\"PostId\"),  # foreign key\n",
    "        col('value.RevisionGUID'),\n",
    "        col('value.CreationDate').cast('timestamp').alias(\"CreationDate\"),\n",
    "        col('value.UserId').cast('integer').alias(\"UserId\"),\n",
    "        col('value.UserDisplayName').alias(\"UserDisplayName\"),\n",
    "        unescape('value.Comment').alias('Comment'),\n",
    "        unescape('value.Text').alias('Text'),\n",
    "        col('value.CloseReasonId').cast('integer').alias(\"CloseReasonId\")\n",
    "    ).write.parquet(output_directory + '/PostHistory')"
   ]
  },
  {
   "cell_type": "code",
   "execution_count": 39,
   "id": "f78847bf",
   "metadata": {},
   "outputs": [],
   "source": [
    "# PostLinks\n",
    "\n",
    "spark.read.text(link + '/PostLinks.xml').where(col('value').like('%<row Id%')) \\\n",
    "    .select(udf(parse_line, MapType(StringType(), StringType()))('value').alias('value')) \\\n",
    "    .select(\n",
    "        col('value.Id').cast('integer').alias(\"Id\"),\n",
    "        col('value.CreationDate').cast('timestamp').alias(\"CreationDate\"),\n",
    "        col('value.PostId').cast('integer').alias(\"PostId\"),\n",
    "        col('value.RelatedPostId').cast('integer').alias(\"RelatedPostId\"),\n",
    "        col('value.LinkTypeId').cast('integer').alias(\"LinkTypeId\")\n",
    "    ).repartition(2).write.parquet(output_directory + '/PostLinks')"
   ]
  },
  {
   "cell_type": "code",
   "execution_count": 40,
   "id": "9ba7b28e",
   "metadata": {},
   "outputs": [
    {
     "name": "stderr",
     "output_type": "stream",
     "text": [
      "22/03/12 21:08:05 WARN MemoryManager: Total allocation exceeds 95.00% (1,020,054,720 bytes) of heap memory\n",
      "Scaling row group sizes to 95.00% for 8 writers\n",
      "                                                                                \r"
     ]
    }
   ],
   "source": [
    "# Users\n",
    "\n",
    "spark.read.text(link + '/Users.xml').where(col('value').like('%<row Id%')) \\\n",
    "    .select(udf(parse_line, MapType(StringType(), StringType()))('value').alias('value')) \\\n",
    "    .select(\n",
    "    col('value.Id').cast('integer').alias(\"Id\"),\n",
    "    col('value.Reputation').cast('integer').alias(\"Reputation\"),\n",
    "    col('value.CreationDate').cast('timestamp').alias(\"CreationDate\"),\n",
    "    col('value.DisplayName'),\n",
    "    col('value.EmailHash').cast('integer').alias(\"EmailHash\"),\n",
    "    col('value.LastAccessDate').cast('timestamp').alias(\"LastAccessDate\"),\n",
    "    col('value.WebsiteUrl'),\n",
    "    col('value.Location'),\n",
    "    col('value.Age').cast('integer').alias(\"Age\"),\n",
    "    unescape('value.AboutMe').alias('AboutMe'),\n",
    "    col('value.Views').cast('integer').alias('Views'),\n",
    "    col('value.UpVotes').cast('integer').alias('UpVotes'),\n",
    "    col('value.DownVotes').cast('integer').alias('DownVotes'),\n",
    "    col('value.ProfileImageUrl'),\n",
    "    col('value.AccountId').cast('integer').alias('AccountId')\n",
    ").repartition(10).write.parquet(output_directory + '/Users')"
   ]
  },
  {
   "cell_type": "code",
   "execution_count": 41,
   "id": "a226a6f8",
   "metadata": {},
   "outputs": [
    {
     "name": "stderr",
     "output_type": "stream",
     "text": [
      "                                                                                \r"
     ]
    }
   ],
   "source": [
    "# Votes\n",
    "\n",
    "spark.read.text(link + '/Votes.xml').where(col('value').like('%<row Id%')) \\\n",
    "    .select(udf(parse_line, MapType(StringType(), StringType()))('value').alias('value')) \\\n",
    "    .select(\n",
    "        col('value.Id').cast('integer').alias(\"Id\"),\n",
    "        col('value.PostId').cast('integer').alias(\"PostId\"),\n",
    "        col('value.VoteTypeId').cast('integer').alias(\"VoteTypeId\"),\n",
    "        col('value.CreationDate').cast('timestamp').alias(\"CreationDate\"),\n",
    "        col('value.UserId').cast('integer').alias(\"UserId\"),\n",
    "        col('value.BountyAmount').cast('integer').alias(\"BountyAmount\")\n",
    "    ).repartition(20).write.parquet(output_directory + '/Votes')"
   ]
  },
  {
   "cell_type": "code",
   "execution_count": 42,
   "id": "813c036f",
   "metadata": {},
   "outputs": [],
   "source": [
    "# Tags\n",
    "\n",
    "spark.read.text(link + '/Tags.xml').where(col('value').like('%<row Id%')) \\\n",
    "    .select(udf(parse_line, MapType(StringType(), StringType()))('value').alias('value')) \\\n",
    "    .select(\n",
    "    col('value.Id').cast('integer').alias(\"Id\"),\n",
    "    col('value.TagName').alias(\"TagName\"),\n",
    "    col('value.Count').cast('integer').alias(\"Count\"),\n",
    "    col('value.ExcerptPostId').cast('integer').alias(\"ExcerptPostId\"),\n",
    "    col('value.WikiPostId').cast('integer').alias(\"WikiPostId\")\n",
    ").repartition(1).write.parquet(output_directory + '/Tags')"
   ]
  },
  {
   "cell_type": "code",
   "execution_count": null,
   "id": "ffb9c8fa",
   "metadata": {},
   "outputs": [],
   "source": []
  }
 ],
 "metadata": {
  "kernelspec": {
   "display_name": "Python 3 (ipykernel)",
   "language": "python",
   "name": "python3"
  },
  "language_info": {
   "codemirror_mode": {
    "name": "ipython",
    "version": 3
   },
   "file_extension": ".py",
   "mimetype": "text/x-python",
   "name": "python",
   "nbconvert_exporter": "python",
   "pygments_lexer": "ipython3",
   "version": "3.10.0"
  }
 },
 "nbformat": 4,
 "nbformat_minor": 5
}
