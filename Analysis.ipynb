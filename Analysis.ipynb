{
 "cells": [
  {
   "cell_type": "code",
   "execution_count": 1,
   "id": "6722bb2f",
   "metadata": {},
   "outputs": [],
   "source": [
    "from pyspark.sql import SparkSession\n",
    "from pyspark.sql import Row\n",
    "from pyspark.sql.functions import *\n",
    "from pyspark.sql.types import *\n",
    "\n",
    "# initialize\n",
    "working_directory = 'main/jars/'\n",
    "\n",
    "spark = SparkSession \\\n",
    "    .builder \\\n",
    "    .appName('data-public_local') \\\n",
    "    .config('spark.driver.extraClassPath',\n",
    "            working_directory + 'postgresql-42.2.5.jar') \\\n",
    "    .master(\"local[*]\") \\\n",
    "    .getOrCreate()"
   ]
  },
  {
   "cell_type": "code",
   "execution_count": 2,
   "id": "e4eb8809",
   "metadata": {},
   "outputs": [
    {
     "name": "stderr",
     "output_type": "stream",
     "text": [
      "                                                                                \r"
     ]
    }
   ],
   "source": [
    "# get data from parquet files\n",
    "output_directory = 'main/outputdata'\n",
    "\n",
    "badges = spark.read.parquet(output_directory + '/Badges/*')\n",
    "posts = spark.read.parquet(output_directory + '/Posts/*')\n",
    "users = spark.read.parquet(output_directory + '/Users/*')\n",
    "posthistory=spark.read.parquet(output_directory + '/PostHistory/*')\n",
    "\n",
    "\n",
    "badges.createOrReplaceTempView(\"badges_sql\")\n",
    "posts.createOrReplaceTempView(\"posts_sql\")\n",
    "users.createOrReplaceTempView(\"users_sql\")\n",
    "posthistory.createOrReplaceTempView(\"posthistory_sql\")"
   ]
  },
  {
   "cell_type": "code",
   "execution_count": 3,
   "id": "de6b1e9d",
   "metadata": {},
   "outputs": [],
   "source": [
    "comments=spark.read.parquet(output_directory + '/Comments/*')\n",
    "comments.createOrReplaceTempView(\"comments_sql\")"
   ]
  },
  {
   "cell_type": "markdown",
   "id": "e4eda8a0",
   "metadata": {},
   "source": [
    "Total number of posts"
   ]
  },
  {
   "cell_type": "code",
   "execution_count": 30,
   "id": "9f468646",
   "metadata": {},
   "outputs": [
    {
     "name": "stdout",
     "output_type": "stream",
     "text": [
      "+-----+----------+--------------------+---------------+---------+--------------------+--------------------+-----------+----+--------------------+-----+-------+---------+---------------+---------+------------------+\n",
      "|   id|reputation|        creationDate|    displayName|emailHash|      lastAccessDate|          websiteUrl|   location| age|             aboutMe|views|upVotes|downVotes|profileImageUrl|accountId|totalNumberOfPosts|\n",
      "+-----+----------+--------------------+---------------+---------+--------------------+--------------------+-----------+----+--------------------+-----+-------+---------+---------------+---------+------------------+\n",
      "|18974|       101|2015-11-09 09:31:...|          Celos|     null|2021-02-24 11:52:...|  http://mihkel.org/|    Estonia|null|                null|    0|      0|        0|           null|  1107512|                 0|\n",
      "|  750|       101|2011-08-19 03:20:...|Prince Ashitaka|     null|2011-08-19 03:20:...|http://stackoverf...|Buffalo, NY|null|<p><strong>Links:...|    2|      5|        0|           null|   100177|                 0|\n",
      "|16749|       101|2015-07-31 17:47:...|        a7-wald|     null|2015-07-31 17:47:...|                null|       null|null|                null|    2|      0|        0|           null|  6717529|                 1|\n",
      "+-----+----------+--------------------+---------------+---------+--------------------+--------------------+-----------+----+--------------------+-----+-------+---------+---------------+---------+------------------+\n",
      "only showing top 3 rows\n",
      "\n"
     ]
    }
   ],
   "source": [
    "# create table with number of posts per user\n",
    "posts_number = spark.sql(\"SELECT tmp.ownerUserId, COUNT(*) as totalNumberOfPosts\"\n",
    "                         \" FROM (posts_sql join users_sql\"\n",
    "                         \"     on users_sql.id == posts_sql.ownerUserId) as tmp\"\n",
    "                         \" GROUP BY tmp.ownerUserId\"\n",
    "                         )\n",
    "\n",
    "posts_number.createOrReplaceTempView(\"posts_number_sql\")\n",
    "\n",
    "# JOIN with users table -> users table with number of posts\n",
    "new_users_1 = spark.sql(\" SELECT tmp.id, tmp.reputation, tmp.creationDate, tmp.displayName, tmp.emailHash,\"\n",
    "                                     \" tmp.lastAccessDate, tmp.websiteUrl, tmp.location, tmp.age, tmp.aboutMe, tmp.views,\"\n",
    "                                     \" tmp.upVotes, tmp.downVotes, tmp.profileImageUrl, tmp.accountId, COALESCE(tmp.totalNumberOfPosts, 0) as totalNumberOfPosts\"\n",
    "                                     \" FROM (users_sql LEFT OUTER JOIN posts_number_sql\"\n",
    "                                     \"  on users_sql.id == posts_number_sql.ownerUserId) as tmp\")\n",
    "\n",
    "new_users_1.createOrReplaceTempView(\"new_users_1_sql\")\n",
    "new_users_1.show(3)"
   ]
  },
  {
   "cell_type": "code",
   "execution_count": 28,
   "id": "6cdf8d15",
   "metadata": {},
   "outputs": [],
   "source": [
    "# Creation date of the last post which has comments\n",
    "last_post = spark.sql(\"\"\"SELECT CreationDate,PostId,Comment FROM posthistory_sql\n",
    "WHERE CreationDate IN (SELECT max(CreationDate) FROM posthistory_sql)\"\"\")\n",
    "\n",
    "\n",
    "last_post.createOrReplaceTempView(\"last_post_sql\")\n",
    "\n",
    "\n"
   ]
  },
  {
   "cell_type": "code",
   "execution_count": 27,
   "id": "4c27c8c7",
   "metadata": {},
   "outputs": [],
   "source": [
    "#Average number of comments per month\n",
    "\n",
    "avg_commnts=spark.sql(\"\"\"select count(*) / count(distinct Month(CreationDate)) from comments_sql\"\"\")\n",
    "\n",
    "\n",
    "avg_commnts.createOrReplaceTempView(\"avg_commnts_sql\")\n",
    "\n"
   ]
  },
  {
   "cell_type": "code",
   "execution_count": 31,
   "id": "cc68a6f8",
   "metadata": {},
   "outputs": [
    {
     "name": "stderr",
     "output_type": "stream",
     "text": [
      "\r",
      "[Stage 59:>                                                         (0 + 1) / 1]\r",
      "\r",
      "                                                                                \r"
     ]
    },
    {
     "name": "stdout",
     "output_type": "stream",
     "text": [
      "+------+------+\n",
      "|userId|critic|\n",
      "+------+------+\n",
      "|   149|     1|\n",
      "|  3181|     1|\n",
      "| 16039|     1|\n",
      "+------+------+\n",
      "only showing top 3 rows\n",
      "\n",
      "+-----+----------+--------------------+---------------+---------+--------------------+--------------------+-----------+----+--------------------+-----+-------+---------+---------------+---------+------------------+------+\n",
      "|   id|reputation|        creationDate|    displayName|emailHash|      lastAccessDate|          websiteUrl|   location| age|             aboutMe|views|upVotes|downVotes|profileImageUrl|accountId|totalNumberOfPosts|critic|\n",
      "+-----+----------+--------------------+---------------+---------+--------------------+--------------------+-----------+----+--------------------+-----+-------+---------+---------------+---------+------------------+------+\n",
      "|18974|       101|2015-11-09 09:31:...|          Celos|     null|2021-02-24 11:52:...|  http://mihkel.org/|    Estonia|null|                null|    0|      0|        0|           null|  1107512|                 0|     0|\n",
      "|  750|       101|2011-08-19 03:20:...|Prince Ashitaka|     null|2011-08-19 03:20:...|http://stackoverf...|Buffalo, NY|null|<p><strong>Links:...|    2|      5|        0|           null|   100177|                 0|     0|\n",
      "|16749|       101|2015-07-31 17:47:...|        a7-wald|     null|2015-07-31 17:47:...|                null|       null|null|                null|    2|      0|        0|           null|  6717529|                 1|     0|\n",
      "+-----+----------+--------------------+---------------+---------+--------------------+--------------------+-----------+----+--------------------+-----+-------+---------+---------------+---------+------------------+------+\n",
      "only showing top 3 rows\n",
      "\n"
     ]
    }
   ],
   "source": [
    "# table with critics\n",
    "critics = spark.sql(\"SELECT tmp.userId, tmp.name as badge\"\n",
    "                            \" FROM (badges_sql join users_sql\"\n",
    "                            \" on badges_sql.userId == users_sql.id) as tmp\"\n",
    "                            \" WHERE tmp.name == 'Critic'\"\n",
    "                            )\n",
    "\n",
    "critics = critics.withColumn(\"critic\", when(critics.badge == \"Critic\", 1).otherwise(0)).drop(col(\"badge\"))\n",
    "critics.createOrReplaceTempView(\"critics_sql\")\n",
    "critics.show(3)\n",
    "\n",
    "\n",
    "new_users_2 = spark.sql(\" SELECT tmp.id, tmp.reputation, tmp.creationDate, tmp.displayName, tmp.emailHash,\"\n",
    "                        \" tmp.lastAccessDate, tmp.websiteUrl, tmp.location, tmp.age, tmp.aboutMe, tmp.views,\"\n",
    "                        \" tmp.upVotes, tmp.downVotes, tmp.profileImageUrl, tmp.accountId, tmp.totalNumberOfPosts,\"\n",
    "                        \" COALESCE(tmp.critic, 0) as critic\"\n",
    "                      \" FROM (new_users_1_sql LEFT OUTER JOIN critics_sql\"\n",
    "                      \"  on new_users_1_sql.id == critics_sql.userId) as tmp\")\n",
    "\n",
    "new_users_2.createOrReplaceTempView(\"new_users_2_sql\")\n",
    "\n",
    "new_users_2.show(3)"
   ]
  },
  {
   "cell_type": "code",
   "execution_count": 32,
   "id": "d1214807",
   "metadata": {},
   "outputs": [
    {
     "name": "stdout",
     "output_type": "stream",
     "text": [
      "+------+------+\n",
      "|userId|editor|\n",
      "+------+------+\n",
      "| 16929|     1|\n",
      "| 21691|     1|\n",
      "|   701|     1|\n",
      "+------+------+\n",
      "only showing top 3 rows\n",
      "\n"
     ]
    },
    {
     "name": "stderr",
     "output_type": "stream",
     "text": [
      "                                                                                \r"
     ]
    },
    {
     "name": "stdout",
     "output_type": "stream",
     "text": [
      "+-----+----------+--------------------+---------------+---------+--------------------+--------------------+-----------+----+--------------------+-----+-------+---------+---------------+---------+------------------+------+------+\n",
      "|   id|reputation|        creationDate|    displayName|emailHash|      lastAccessDate|          websiteUrl|   location| age|             aboutMe|views|upVotes|downVotes|profileImageUrl|accountId|totalNumberOfPosts|critic|editor|\n",
      "+-----+----------+--------------------+---------------+---------+--------------------+--------------------+-----------+----+--------------------+-----+-------+---------+---------------+---------+------------------+------+------+\n",
      "|18974|       101|2015-11-09 09:31:...|          Celos|     null|2021-02-24 11:52:...|  http://mihkel.org/|    Estonia|null|                null|    0|      0|        0|           null|  1107512|                 0|     0|     0|\n",
      "|  750|       101|2011-08-19 03:20:...|Prince Ashitaka|     null|2011-08-19 03:20:...|http://stackoverf...|Buffalo, NY|null|<p><strong>Links:...|    2|      5|        0|           null|   100177|                 0|     0|     0|\n",
      "|16749|       101|2015-07-31 17:47:...|        a7-wald|     null|2015-07-31 17:47:...|                null|       null|null|                null|    2|      0|        0|           null|  6717529|                 1|     0|     0|\n",
      "+-----+----------+--------------------+---------------+---------+--------------------+--------------------+-----------+----+--------------------+-----+-------+---------+---------------+---------+------------------+------+------+\n",
      "only showing top 3 rows\n",
      "\n"
     ]
    }
   ],
   "source": [
    "# table with editors\n",
    "editors = spark.sql(\"SELECT tmp.userId, tmp.name as badge\"\n",
    "                    \" FROM (badges_sql join users_sql\"\n",
    "                    \" on badges_sql.userId == users_sql.id) as tmp\"\n",
    "                    \" WHERE tmp.name == 'Editor'\"\n",
    "                    )\n",
    "\n",
    "editors = editors.withColumn(\"editor\", when(editors.badge == \"Editor\", 1).otherwise(0)).drop(\n",
    "    col(\"badge\"))\n",
    "editors.createOrReplaceTempView(\"editors_sql\")\n",
    "editors.show(3)\n",
    "\n",
    "new_users_3 = spark.sql(\" SELECT tmp.id, tmp.reputation, tmp.creationDate, tmp.displayName, tmp.emailHash,\"\n",
    "                        \" tmp.lastAccessDate, tmp.websiteUrl, tmp.location, tmp.age, tmp.aboutMe, tmp.views,\"\n",
    "                        \" tmp.upVotes, tmp.downVotes, tmp.profileImageUrl, tmp.accountId, tmp.totalNumberOfPosts,\"\n",
    "                        \" tmp.critic, COALESCE(tmp.editor, 0) as editor\"\n",
    "                       \" FROM (new_users_2_sql LEFT OUTER JOIN editors_sql\"\n",
    "                       \"  on new_users_2_sql.id == editors_sql.userId) as tmp\")\n",
    "\n",
    "new_users_3.createOrReplaceTempView(\"new_users_3_sql\")\n",
    "\n",
    "new_users_3.show(3)"
   ]
  },
  {
   "cell_type": "code",
   "execution_count": 33,
   "id": "c5498ced",
   "metadata": {},
   "outputs": [
    {
     "name": "stdout",
     "output_type": "stream",
     "text": [
      "+-----+----------+--------------------+---------------+---------+--------------------+--------------------+-----------+----+--------------------+-----+-------+---------+---------------+---------+------------------+------+------+----------------------+\n",
      "|   id|reputation|        creationDate|    displayName|emailHash|      lastAccessDate|          websiteUrl|   location| age|             aboutMe|views|upVotes|downVotes|profileImageUrl|accountId|totalNumberOfPosts|critic|editor|lastMonthNumberOfPosts|\n",
      "+-----+----------+--------------------+---------------+---------+--------------------+--------------------+-----------+----+--------------------+-----+-------+---------+---------------+---------+------------------+------+------+----------------------+\n",
      "|18974|       101|2015-11-09 09:31:...|          Celos|     null|2021-02-24 11:52:...|  http://mihkel.org/|    Estonia|null|                null|    0|      0|        0|           null|  1107512|                 0|     0|     0|                     0|\n",
      "|  750|       101|2011-08-19 03:20:...|Prince Ashitaka|     null|2011-08-19 03:20:...|http://stackoverf...|Buffalo, NY|null|<p><strong>Links:...|    2|      5|        0|           null|   100177|                 0|     0|     0|                     0|\n",
      "|16749|       101|2015-07-31 17:47:...|        a7-wald|     null|2015-07-31 17:47:...|                null|       null|null|                null|    2|      0|        0|           null|  6717529|                 1|     0|     0|                     0|\n",
      "+-----+----------+--------------------+---------------+---------+--------------------+--------------------+-----------+----+--------------------+-----+-------+---------+---------------+---------+------------------+------+------+----------------------+\n",
      "only showing top 3 rows\n",
      "\n"
     ]
    }
   ],
   "source": [
    "# table with last 30 days number ofposts\n",
    "number_posts_30_days = spark.sql(\"SELECT p.ownerUserId, COUNT(*) as lastMonthNumberOfPosts\"\n",
    "          \" FROM posts_sql as p\"\n",
    "          \" WHERE (CURRENT_TIMESTAMP - INTERVAL 30 days) <= p.creationDate\"\n",
    "          \" GROUP BY p.ownerUserId\")\n",
    "\n",
    "number_posts_30_days.createOrReplaceTempView(\"number_posts_30_days_sql\")\n",
    "\n",
    "final_users = spark.sql(\" SELECT tmp.id, tmp.reputation, tmp.creationDate, tmp.displayName, tmp.emailHash,\"\n",
    "                                    \" tmp.lastAccessDate, tmp.websiteUrl, tmp.location, tmp.age, tmp.aboutMe, tmp.views,\"\n",
    "                                    \" tmp.upVotes, tmp.downVotes, tmp.profileImageUrl, tmp.accountId, tmp.totalNumberOfPosts,\"\n",
    "                                    \" tmp.critic, tmp.editor, COALESCE(tmp.lastMonthNumberOfPosts,0) as lastMonthNumberOfPosts\"\n",
    "                                     \" FROM (new_users_3_sql LEFT OUTER JOIN number_posts_30_days_sql\"\n",
    "                                     \"  on new_users_3_sql.id == number_posts_30_days_sql.ownerUserId) as tmp\")\n",
    "\n",
    "final_users.createOrReplaceTempView(\"final_users_sql\")\n",
    "\n",
    "final_users.show(3)"
   ]
  },
  {
   "cell_type": "code",
   "execution_count": 48,
   "id": "8957fb69",
   "metadata": {},
   "outputs": [],
   "source": [
    "# writing to remote  database\n",
    "\n",
    "# TODO pass your database properties here\n",
    "properties_remote = {\n",
    "    'driver': 'org.postgresql.Driver',\n",
    "    'url': 'jdbc:postgresql:stackoverflow',\n",
    "    'user': 'postgres',\n",
    "    'password': 'test123',\n",
    "    'dbtable': 'users',\n",
    "}\n",
    "\n",
    "final_users.write \\\n",
    "    .format('jdbc') \\\n",
    "    .option('driver', properties_remote['driver']) \\\n",
    "    .option('url', properties_remote['url']) \\\n",
    "    .option('user', properties_remote['user']) \\\n",
    "    .option('password', properties_remote['password']) \\\n",
    "    .option('dbtable', properties_remote['dbtable']) \\\n",
    "    .mode('append') \\\n",
    "    .save()"
   ]
  },
  {
   "cell_type": "code",
   "execution_count": 49,
   "id": "c868d0b6",
   "metadata": {},
   "outputs": [],
   "source": [
    "# read from temote database\n",
    "\n",
    "df_remote = spark.read \\\n",
    "    .format('jdbc') \\\n",
    "    .option('driver', properties_remote['driver']) \\\n",
    "    .option('url', properties_remote['url']) \\\n",
    "    .option('user', properties_remote['user']) \\\n",
    "    .option('password', properties_remote['password']) \\\n",
    "    .option('dbtable', properties_remote['dbtable']) \\\n",
    "    .load()\n",
    "\n",
    "\n",
    "df_remote.select('*').show(3)\n",
    "print(df_remote.count())\n",
    "df_remote.select('*').where(col('id') == 8).show()"
   ]
  },
  {
   "cell_type": "code",
   "execution_count": null,
   "id": "fa8d862c",
   "metadata": {},
   "outputs": [],
   "source": []
  }
 ],
 "metadata": {
  "kernelspec": {
   "display_name": "Python 3 (ipykernel)",
   "language": "python",
   "name": "python3"
  },
  "language_info": {
   "codemirror_mode": {
    "name": "ipython",
    "version": 3
   },
   "file_extension": ".py",
   "mimetype": "text/x-python",
   "name": "python",
   "nbconvert_exporter": "python",
   "pygments_lexer": "ipython3",
   "version": "3.10.0"
  }
 },
 "nbformat": 4,
 "nbformat_minor": 5
}
